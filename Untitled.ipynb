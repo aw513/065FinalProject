{
 "cells": [
  {
   "cell_type": "code",
   "execution_count": 1,
   "id": "06363a9c-e154-4fa7-bf65-7db0a13c369e",
   "metadata": {},
   "outputs": [
    {
     "name": "stdout",
     "output_type": "stream",
     "text": [
      "Requirement already satisfied: pymo in /Users/anna/Library/jupyterlab-desktop/jlab_server/lib/python3.8/site-packages (0.2.0)\n",
      "Requirement already satisfied: pymongo<4,>=2 in /Users/anna/Library/jupyterlab-desktop/jlab_server/lib/python3.8/site-packages (from pymo) (3.13.0)\n"
     ]
    }
   ],
   "source": [
    "!pip install pymo"
   ]
  },
  {
   "cell_type": "code",
   "execution_count": 2,
   "id": "b71f6689-adf8-4258-b4a9-6da6d1607436",
   "metadata": {},
   "outputs": [],
   "source": [
    "import pymo"
   ]
  },
  {
   "cell_type": "code",
   "execution_count": null,
   "id": "6b33467b-66c6-471d-9c1d-b6cbd106b02f",
   "metadata": {},
   "outputs": [],
   "source": []
  }
 ],
 "metadata": {
  "kernelspec": {
   "display_name": "Python 3 (ipykernel)",
   "language": "python",
   "name": "python3"
  },
  "language_info": {
   "codemirror_mode": {
    "name": "ipython",
    "version": 3
   },
   "file_extension": ".py",
   "mimetype": "text/x-python",
   "name": "python",
   "nbconvert_exporter": "python",
   "pygments_lexer": "ipython3",
   "version": "3.8.13"
  }
 },
 "nbformat": 4,
 "nbformat_minor": 5
}
