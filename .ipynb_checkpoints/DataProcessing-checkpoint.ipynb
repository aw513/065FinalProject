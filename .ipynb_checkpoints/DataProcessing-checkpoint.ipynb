{
 "cells": [
  {
   "cell_type": "code",
   "execution_count": 111,
   "id": "6b010703-6a13-4f1b-b201-3863dab69e6f",
   "metadata": {},
   "outputs": [],
   "source": [
    "import numpy as np\n",
    "import os"
   ]
  },
  {
   "cell_type": "code",
   "execution_count": 109,
   "id": "6b33467b-66c6-471d-9c1d-b6cbd106b02f",
   "metadata": {},
   "outputs": [],
   "source": [
    "def convert_file(file_in, file_out):\n",
    "    file = open(file_in, \"r\")\n",
    "    full_data = file.readlines()\n",
    "    i = full_data.index(\"MOTION\\n\")\n",
    "    frames = int(full_data[i+1].strip().replace(\"Frames: \", \"\"))\n",
    "    frame_time = float(full_data[i+2].strip().replace(\"Frame Time: \", \"\"))\n",
    "\n",
    "    pos_data = [] # frame [ 83 joints [xpos, ypos, zpos, zrot, xrot, yrot]]]\n",
    "    for frame in full_data[i+3: ]:\n",
    "        pos_data.append( [float(x) for x in frame.split()])\n",
    "\n",
    "    pos_data = np.array(data)\n",
    "    v_data = np.diff(pos_data, 1, 0)\n",
    "    acc_data = np.diff(pos_data, 2, 0)\n",
    "\n",
    "    # How much does taking the derivative reduce the amount of non zero data?\n",
    "    total_size = np.size(pos_data)\n",
    "    print(total_size , round(np.count_nonzero(pos_data)/total_size*100,2), round(np.count_nonzero(acc_data)/total_size*100, 3))\n",
    "\n",
    "    np.savetxt(file_out, acc_data, delimiter=',', fmt='%d')\n",
    "\n",
    "    file.close()"
   ]
  },
  {
   "cell_type": "code",
   "execution_count": 113,
   "id": "c593e768-4174-45a1-9b3b-9fadd88b2699",
   "metadata": {},
   "outputs": [
    {
     "name": "stdout",
     "output_type": "stream",
     "text": [
      "session30 take16_hasFingers_deep5_scale_local.bvh\n"
     ]
    }
   ],
   "source": [
    "data_dir = \"mocap_data\"\n",
    "\n",
    "# iterate through the session directories\n",
    "for session_dir in os.listdir(data_dir):\n",
    "    if not session_dir.startswith(\"session\"):\n",
    "        continue\n",
    "    session_path = os.path.join(data_dir, session_dir)\n",
    "    for take_dir in os.listdir(session_path):\n",
    "        if not take_dir.startswith(\"take\"):\n",
    "            continue\n",
    "        file_a, file_b =  [x for x in os.listdir(os.path.join(session_path, take_dir)) if \".bvh\" in x]\n",
    "        new_a = \"session_path.replace(\"session\", \"\")\n",
    "        print(session_dir, file_a)\n",
    "        break\n",
    "    break"
   ]
  }
 ],
 "metadata": {
  "kernelspec": {
   "display_name": "Python 3 (ipykernel)",
   "language": "python",
   "name": "python3"
  },
  "language_info": {
   "codemirror_mode": {
    "name": "ipython",
    "version": 3
   },
   "file_extension": ".py",
   "mimetype": "text/x-python",
   "name": "python",
   "nbconvert_exporter": "python",
   "pygments_lexer": "ipython3",
   "version": "3.8.13"
  }
 },
 "nbformat": 4,
 "nbformat_minor": 5
}
