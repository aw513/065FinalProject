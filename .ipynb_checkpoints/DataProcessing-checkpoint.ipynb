{
 "cells": [
  {
   "cell_type": "code",
   "execution_count": 1,
   "id": "6b010703-6a13-4f1b-b201-3863dab69e6f",
   "metadata": {},
   "outputs": [],
   "source": [
    "import numpy as np\n",
    "import os"
   ]
  },
  {
   "cell_type": "markdown",
   "id": "1165d7d5-bc3f-45be-ba07-87848893e5c3",
   "metadata": {},
   "source": [
    "Hacky code to pull out just the local acceleration data across joints / frames"
   ]
  },
  {
   "cell_type": "code",
   "execution_count": 2,
   "id": "6b33467b-66c6-471d-9c1d-b6cbd106b02f",
   "metadata": {},
   "outputs": [],
   "source": [
    "def convert_file(file_in, file_out):\n",
    "    file = open(file_in, \"r\")\n",
    "    full_data = file.readlines()\n",
    "    i = full_data.index(\"MOTION\\n\")\n",
    "    frames = int(full_data[i+1].strip().replace(\"Frames: \", \"\"))\n",
    "    frame_time = float(full_data[i+2].strip().replace(\"Frame Time: \", \"\"))\n",
    "    # print(frames, frame_time)\n",
    "\n",
    "    pos_data = [] # frame [ 83 joints [xpos, ypos, zpos, zrot, xrot, yrot]]]\n",
    "    for frame in full_data[i+3: ]:\n",
    "        pos_data.append( [float(x) for x in frame.split()])\n",
    "    \n",
    "    # take the derivative to get acceleration\n",
    "    pos_data = np.array(pos_data)\n",
    "    v_data = np.diff(pos_data, 1, 0)\n",
    "    acc_data = np.diff(pos_data, 2, 0)\n",
    "    \n",
    "    # How much does taking the derivative reduce the amount of non zero data?\n",
    "    total_size = np.size(pos_data)\n",
    "    # print(total_size , round(np.count_nonzero(pos_data)/total_size*100,4), round(np.count_nonzero(acc_data)/total_size*100, 4))\n",
    "    # ~ 70 -> 20%\n",
    "    \n",
    "    # cut out the first ~5 seconds on each side of the take to remove weird artifacts\n",
    "    acc_data = acc_data[500: -500]\n",
    "    \n",
    "    np.savetxt(file_out, acc_data, delimiter=',', fmt='%d')\n",
    "\n",
    "    file.close()\n",
    "    return len(acc_data), frame_time"
   ]
  },
  {
   "cell_type": "markdown",
   "id": "bcb23c92-42cf-4238-b801-df4cdf7bbfc4",
   "metadata": {},
   "source": [
    "Go through each pair of bvh files and convert to csv with new naming convention"
   ]
  },
  {
   "cell_type": "code",
   "execution_count": 4,
   "id": "c593e768-4174-45a1-9b3b-9fadd88b2699",
   "metadata": {},
   "outputs": [],
   "source": [
    "data_dir = \"mocap_data\"\n",
    "\n",
    "frames = []\n",
    "frame_length = []\n",
    "\n",
    "# iterate through the session directories\n",
    "for session_dir in os.listdir(data_dir):\n",
    "    if not session_dir.startswith(\"session\"):\n",
    "        continue\n",
    "    session_path = os.path.join(data_dir, session_dir)\n",
    "    for take_dir in os.listdir(session_path):\n",
    "        if not take_dir.startswith(\"take\"):\n",
    "            continue\n",
    "        take_path = os.path.join(session_path, take_dir)\n",
    "        file_a, file_b =  [x for x in os.listdir(take_path) if \".bvh\" in x]\n",
    "        person_a = file_a.replace(take_dir + \"_hasFingers_\", \"\").replace(\"_scale_local.bvh\", \"\")\n",
    "        person_b = file_b.replace(take_dir + \"_hasFingers_\", \"\").replace(\"_scale_local.bvh\", \"\")\n",
    "        new_a = \"csv_data/\" + person_a + \"_\" + person_b + \"_\" + session_dir.replace(\"ession\", \"\") + take_dir.replace(\"ake\", \"\") + '.csv'\n",
    "        new_b = \"csv_data/\" + person_b + \"_\" + person_a + \"_\" + session_dir.replace(\"ession\", \"\") + take_dir.replace(\"ake\", \"\") + '.csv'\n",
    "        f, f_len = convert_file(os.path.join(take_path, file_a), new_a)\n",
    "        frames.append(f)\n",
    "        frame_length.append(f_len)\n",
    "        f, f_len\n",
    "        convert_file(os.path.join(take_path, file_b), new_b)\n",
    "        frames.append(f)\n",
    "        frame_length.append(f_len)"
   ]
  },
  {
   "cell_type": "code",
   "execution_count": 14,
   "id": "3328795f-42c7-4d90-a67e-9c095096ea72",
   "metadata": {},
   "outputs": [
    {
     "name": "stdout",
     "output_type": "stream",
     "text": [
      "1\n",
      "1 1.0\n",
      "1 0\n"
     ]
    }
   ],
   "source": [
    "print(frames[0])\n",
    "\n",
    "# Do we need to chop up any of our data?\n",
    "print(np.min(frames), np.max(frames)/np.min(frames)) # 5226 min length of motion\n",
    "      \n",
    "# Are all frames captured at the same frame rate?\n",
    "print(frame_length[0], len([x for x in frame_length if x!= frame_length[0]]))"
   ]
  },
  {
   "cell_type": "code",
   "execution_count": 22,
   "id": "4ae96c1f-f243-43ca-bc3f-a77e80dfcb8c",
   "metadata": {},
   "outputs": [
    {
     "ename": "AttributeError",
     "evalue": "'list' object has no attribute 'shape'",
     "output_type": "error",
     "traceback": [
      "\u001b[0;31m---------------------------------------------------------------------------\u001b[0m",
      "\u001b[0;31mAttributeError\u001b[0m                            Traceback (most recent call last)",
      "Input \u001b[0;32mIn [22]\u001b[0m, in \u001b[0;36m<cell line: 6>\u001b[0;34m()\u001b[0m\n\u001b[1;32m      9\u001b[0m \u001b[38;5;28;01mfor\u001b[39;00m i \u001b[38;5;129;01min\u001b[39;00m \u001b[38;5;28mrange\u001b[39m(d\u001b[38;5;241m.\u001b[39mshape[\u001b[38;5;241m0\u001b[39m]\u001b[38;5;241m/\u001b[39m\u001b[38;5;241m/\u001b[39ml): \u001b[38;5;66;03m# use numpy reshape instead??\u001b[39;00m\n\u001b[1;32m     10\u001b[0m     chunk \u001b[38;5;241m=\u001b[39m np\u001b[38;5;241m.\u001b[39marray(d[i\u001b[38;5;241m*\u001b[39ml: (i\u001b[38;5;241m+\u001b[39m\u001b[38;5;241m1\u001b[39m)\u001b[38;5;241m*\u001b[39ml])\u001b[38;5;241m.\u001b[39mflatten()\n\u001b[0;32m---> 11\u001b[0m     \u001b[38;5;28;01mif\u001b[39;00m (\u001b[43mdata\u001b[49m\u001b[38;5;241;43m.\u001b[39;49m\u001b[43mshape\u001b[49m \u001b[38;5;241m==\u001b[39m (\u001b[38;5;241m0\u001b[39m,)):\n\u001b[1;32m     12\u001b[0m         data \u001b[38;5;241m=\u001b[39m [chunk]\n\u001b[1;32m     13\u001b[0m     \u001b[38;5;28;01melse\u001b[39;00m:\n",
      "\u001b[0;31mAttributeError\u001b[0m: 'list' object has no attribute 'shape'"
     ]
    }
   ],
   "source": [
    "data = []\n",
    "l = 5226 #56 files\n",
    "j = 0\n",
    "\n",
    "# format data so that each column is a  // WHY IS THIS SOOOOO SLOW?\n",
    "for file in [x for x in os.listdir(\"csv_data\") if \".csv\" in x]:\n",
    "    j += 1\n",
    "    d = np.loadtxt(os.path.join(\"csv_data\", file), delimiter=',')\n",
    "    for i in range(d.shape[0]//l): # use numpy reshape instead??\n",
    "        chunk = np.array(d[i*l: (i+1)*l]).flatten()\n",
    "        if (len(data) = 0):\n",
    "            data = [chunk]\n",
    "        else:\n",
    "            data.append(chunk)\n",
    "    if j%5 == 0:\n",
    "        print(j)"
   ]
  },
  {
   "cell_type": "code",
   "execution_count": 20,
   "id": "e5798a75-3190-4275-b508-5b49a20d4112",
   "metadata": {},
   "outputs": [
    {
     "name": "stdout",
     "output_type": "stream",
     "text": [
      "(2602548,) 2602548\n",
      "5\n",
      "10\n",
      "15\n",
      "20\n",
      "25\n",
      "30\n"
     ]
    },
    {
     "ename": "KeyboardInterrupt",
     "evalue": "",
     "output_type": "error",
     "traceback": [
      "\u001b[0;31m---------------------------------------------------------------------------\u001b[0m",
      "\u001b[0;31mKeyboardInterrupt\u001b[0m                         Traceback (most recent call last)",
      "Input \u001b[0;32mIn [20]\u001b[0m, in \u001b[0;36m<cell line: 6>\u001b[0;34m()\u001b[0m\n\u001b[1;32m     13\u001b[0m         \u001b[38;5;28mprint\u001b[39m(data\u001b[38;5;241m.\u001b[39mshape, \u001b[38;5;241m5226\u001b[39m\u001b[38;5;241m*\u001b[39m\u001b[38;5;241m6\u001b[39m\u001b[38;5;241m*\u001b[39m\u001b[38;5;241m83\u001b[39m)\n\u001b[1;32m     14\u001b[0m     \u001b[38;5;28;01melse\u001b[39;00m:\n\u001b[0;32m---> 15\u001b[0m         data \u001b[38;5;241m=\u001b[39m \u001b[43mnp\u001b[49m\u001b[38;5;241;43m.\u001b[39;49m\u001b[43mcolumn_stack\u001b[49m\u001b[43m(\u001b[49m\u001b[43m(\u001b[49m\u001b[43mdata\u001b[49m\u001b[43m,\u001b[49m\u001b[43m \u001b[49m\u001b[43mchunk\u001b[49m\u001b[43m)\u001b[49m\u001b[43m)\u001b[49m\n\u001b[1;32m     16\u001b[0m \u001b[38;5;28;01mif\u001b[39;00m j\u001b[38;5;241m%\u001b[39m\u001b[38;5;241m5\u001b[39m \u001b[38;5;241m==\u001b[39m \u001b[38;5;241m0\u001b[39m:\n\u001b[1;32m     17\u001b[0m     \u001b[38;5;28mprint\u001b[39m(j)\n",
      "File \u001b[0;32m<__array_function__ internals>:180\u001b[0m, in \u001b[0;36mcolumn_stack\u001b[0;34m(*args, **kwargs)\u001b[0m\n",
      "File \u001b[0;32m~/Library/jupyterlab-desktop/jlab_server/lib/python3.8/site-packages/numpy/lib/shape_base.py:656\u001b[0m, in \u001b[0;36mcolumn_stack\u001b[0;34m(tup)\u001b[0m\n\u001b[1;32m    654\u001b[0m         arr \u001b[38;5;241m=\u001b[39m array(arr, copy\u001b[38;5;241m=\u001b[39m\u001b[38;5;28;01mFalse\u001b[39;00m, subok\u001b[38;5;241m=\u001b[39m\u001b[38;5;28;01mTrue\u001b[39;00m, ndmin\u001b[38;5;241m=\u001b[39m\u001b[38;5;241m2\u001b[39m)\u001b[38;5;241m.\u001b[39mT\n\u001b[1;32m    655\u001b[0m     arrays\u001b[38;5;241m.\u001b[39mappend(arr)\n\u001b[0;32m--> 656\u001b[0m \u001b[38;5;28;01mreturn\u001b[39;00m \u001b[43m_nx\u001b[49m\u001b[38;5;241;43m.\u001b[39;49m\u001b[43mconcatenate\u001b[49m\u001b[43m(\u001b[49m\u001b[43marrays\u001b[49m\u001b[43m,\u001b[49m\u001b[43m \u001b[49m\u001b[38;5;241;43m1\u001b[39;49m\u001b[43m)\u001b[49m\n",
      "File \u001b[0;32m<__array_function__ internals>:180\u001b[0m, in \u001b[0;36mconcatenate\u001b[0;34m(*args, **kwargs)\u001b[0m\n",
      "\u001b[0;31mKeyboardInterrupt\u001b[0m: "
     ]
    }
   ],
   "source": [
    "data = np.array([])\n",
    "l = 5226 #56 files\n",
    "j = 0\n",
    "\n",
    "# format data so that each column is a  // WHY IS THIS SOOOOO SLOW?\n",
    "for file in [x for x in os.listdir(\"csv_data\") if \".csv\" in x]:\n",
    "    j += 1\n",
    "    d = np.loadtxt(os.path.join(\"csv_data\", file), delimiter=',')\n",
    "    for i in range(d.shape[0]//l): # use numpy reshape instead??\n",
    "        chunk = np.array(d[i*l: (i+1)*l]).flatten()\n",
    "        if (data.shape == (0,)):\n",
    "            data = chunk\n",
    "            print(data.shape, 5226*6*83)\n",
    "        else:\n",
    "            data = np.column_stack((data, chunk))\n",
    "    if j%5 == 0:\n",
    "        print(j)\n",
    "            \n",
    "print(data.shape)"
   ]
  },
  {
   "cell_type": "code",
   "execution_count": null,
   "id": "229674a4-9498-443b-a7cc-80bd144f04a9",
   "metadata": {},
   "outputs": [],
   "source": []
  },
  {
   "cell_type": "code",
   "execution_count": null,
   "id": "896c939a-797e-434b-9767-92a7eea59a45",
   "metadata": {},
   "outputs": [],
   "source": [
    "print(\"ugh\")"
   ]
  }
 ],
 "metadata": {
  "kernelspec": {
   "display_name": "Python 3 (ipykernel)",
   "language": "python",
   "name": "python3"
  },
  "language_info": {
   "codemirror_mode": {
    "name": "ipython",
    "version": 3
   },
   "file_extension": ".py",
   "mimetype": "text/x-python",
   "name": "python",
   "nbconvert_exporter": "python",
   "pygments_lexer": "ipython3",
   "version": "3.8.13"
  }
 },
 "nbformat": 4,
 "nbformat_minor": 5
}
